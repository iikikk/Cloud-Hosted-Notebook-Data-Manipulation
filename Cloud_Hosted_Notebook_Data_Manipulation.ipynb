{
 "cells": [
  {
   "cell_type": "code",
   "execution_count": null,
   "metadata": {
    "colab": {
     "base_uri": "https://localhost:8080/"
    },
    "id": "PfPEIrSCXJlO",
    "outputId": "9b1051a3-b22c-498c-827c-29c784650fdb"
   },
   "outputs": [],
   "source": [
    "%pip install pandas numpy matplotlib seaborn\n"
   ]
  },
  {
   "cell_type": "code",
   "execution_count": null,
   "metadata": {
    "colab": {
     "base_uri": "https://localhost:8080/",
     "height": 516
    },
    "id": "YI8QFPNHX4JN",
    "outputId": "47a9a0e2-69ce-43f3-e722-4dc6e9face86"
   },
   "outputs": [],
   "source": [
    "import pandas as pd\n",
    "import numpy as np\n",
    "import matplotlib.pyplot as plt\n",
    "import seaborn as sns\n",
    "\n",
    "# Using seaborn's built-in dataset\n",
    "df = sns.load_dataset('iris')\n",
    "df.head()\n",
    "df.info()\n",
    "df.describe()\n",
    "\n"
   ]
  },
  {
   "cell_type": "markdown",
   "metadata": {
    "id": "quLfwZp9ImfQ"
   },
   "source": [
    "Data Cleaning"
   ]
  },
  {
   "cell_type": "code",
   "execution_count": null,
   "metadata": {
    "id": "mS8mUSEfIoyH"
   },
   "outputs": [],
   "source": [
    "df.isnull().sum()\n",
    "df.dropna(inplace=True)\n"
   ]
  },
  {
   "cell_type": "markdown",
   "metadata": {
    "id": "8Om2iDXvSECJ"
   },
   "source": [
    "Data Transformation"
   ]
  },
  {
   "cell_type": "code",
   "execution_count": null,
   "metadata": {
    "id": "32tgdyRhSEdp"
   },
   "outputs": [],
   "source": [
    "df['sepal_area'] = df['sepal_length'] * df['sepal_width']\n",
    "df['species_encoded'] = df['species'].astype('category').cat.codes\n"
   ]
  },
  {
   "cell_type": "markdown",
   "metadata": {
    "id": "b9Hu-72wSmP9"
   },
   "source": [
    "Data Visualization"
   ]
  },
  {
   "cell_type": "code",
   "execution_count": null,
   "metadata": {
    "colab": {
     "base_uri": "https://localhost:8080/",
     "height": 975
    },
    "id": "8NS-3uadSnLw",
    "outputId": "f978ee6b-bc7d-44df-df68-a6b5943bd0d8"
   },
   "outputs": [],
   "source": [
    "# Plot relationships\n",
    "sns.scatterplot(data=df, x='sepal_length', y='sepal_width', hue='species')\n",
    "plt.show()\n",
    "# Correlation matrix\n",
    "numeric_df = df.select_dtypes(include=[np.number])  # This selects only numeric columns\n",
    "correlation_matrix = numeric_df.corr()\n",
    "sns.heatmap(correlation_matrix, annot=True)\n",
    "plt.show()\n"
   ]
  },
  {
   "cell_type": "code",
   "execution_count": null,
   "metadata": {
    "id": "1vH07mTSSqU3"
   },
   "outputs": [],
   "source": []
  }
 ],
 "metadata": {
  "colab": {
   "provenance": []
  },
  "kernelspec": {
   "display_name": "Python 3",
   "name": "python3"
  },
  "language_info": {
   "name": "python"
  }
 },
 "nbformat": 4,
 "nbformat_minor": 0
}
